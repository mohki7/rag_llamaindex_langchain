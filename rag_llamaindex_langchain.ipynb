{
 "cells": [
  {
   "cell_type": "code",
   "execution_count": 5,
   "metadata": {},
   "outputs": [
    {
     "name": "stderr",
     "output_type": "stream",
     "text": [
      "Ignoring wrong pointing object 7 0 (offset 0)\n",
      "Ignoring wrong pointing object 9 0 (offset 0)\n",
      "Ignoring wrong pointing object 11 0 (offset 0)\n",
      "Ignoring wrong pointing object 18 0 (offset 0)\n",
      "Ignoring wrong pointing object 20 0 (offset 0)\n",
      "Ignoring wrong pointing object 23 0 (offset 0)\n",
      "Ignoring wrong pointing object 37 0 (offset 0)\n",
      "Ignoring wrong pointing object 39 0 (offset 0)\n",
      "Ignoring wrong pointing object 41 0 (offset 0)\n",
      "Ignoring wrong pointing object 69 0 (offset 0)\n",
      "Ignoring wrong pointing object 71 0 (offset 0)\n",
      "Ignoring wrong pointing object 73 0 (offset 0)\n",
      "Ignoring wrong pointing object 75 0 (offset 0)\n",
      "Ignoring wrong pointing object 77 0 (offset 0)\n",
      "Ignoring wrong pointing object 79 0 (offset 0)\n",
      "Ignoring wrong pointing object 81 0 (offset 0)\n",
      "Ignoring wrong pointing object 83 0 (offset 0)\n",
      "Ignoring wrong pointing object 107 0 (offset 0)\n",
      "Ignoring wrong pointing object 113 0 (offset 0)\n",
      "Ignoring wrong pointing object 125 0 (offset 0)\n",
      "Ignoring wrong pointing object 186 0 (offset 0)\n",
      "Ignoring wrong pointing object 204 0 (offset 0)\n",
      "Ignoring wrong pointing object 284 0 (offset 0)\n",
      "Ignoring wrong pointing object 399 0 (offset 0)\n",
      "Ignoring wrong pointing object 423 0 (offset 0)\n",
      "Ignoring wrong pointing object 535 0 (offset 0)\n",
      "Ignoring wrong pointing object 537 0 (offset 0)\n",
      "Ignoring wrong pointing object 539 0 (offset 0)\n",
      "Ignoring wrong pointing object 548 0 (offset 0)\n",
      "Ignoring wrong pointing object 553 0 (offset 0)\n",
      "Ignoring wrong pointing object 566 0 (offset 0)\n",
      "Ignoring wrong pointing object 578 0 (offset 0)\n",
      "Ignoring wrong pointing object 593 0 (offset 0)\n",
      "Ignoring wrong pointing object 617 0 (offset 0)\n",
      "Ignoring wrong pointing object 7 0 (offset 0)\n",
      "Ignoring wrong pointing object 9 0 (offset 0)\n",
      "Ignoring wrong pointing object 11 0 (offset 0)\n",
      "Ignoring wrong pointing object 18 0 (offset 0)\n",
      "Ignoring wrong pointing object 20 0 (offset 0)\n",
      "Ignoring wrong pointing object 26 0 (offset 0)\n",
      "Ignoring wrong pointing object 33 0 (offset 0)\n",
      "Ignoring wrong pointing object 50 0 (offset 0)\n",
      "Ignoring wrong pointing object 83 0 (offset 0)\n",
      "Ignoring wrong pointing object 85 0 (offset 0)\n",
      "Ignoring wrong pointing object 204 0 (offset 0)\n",
      "Ignoring wrong pointing object 7 0 (offset 0)\n",
      "Ignoring wrong pointing object 9 0 (offset 0)\n",
      "Ignoring wrong pointing object 11 0 (offset 0)\n",
      "Ignoring wrong pointing object 13 0 (offset 0)\n",
      "Ignoring wrong pointing object 20 0 (offset 0)\n",
      "Ignoring wrong pointing object 22 0 (offset 0)\n",
      "Ignoring wrong pointing object 34 0 (offset 0)\n",
      "Ignoring wrong pointing object 37 0 (offset 0)\n",
      "Ignoring wrong pointing object 44 0 (offset 0)\n",
      "Ignoring wrong pointing object 84 0 (offset 0)\n",
      "Ignoring wrong pointing object 107 0 (offset 0)\n",
      "Ignoring wrong pointing object 132 0 (offset 0)\n",
      "Ignoring wrong pointing object 135 0 (offset 0)\n",
      "Ignoring wrong pointing object 149 0 (offset 0)\n",
      "Ignoring wrong pointing object 204 0 (offset 0)\n",
      "/var/folders/yq/lx5qv2_9299_1q6b2jtwqzn40000gn/T/ipykernel_20998/2604188134.py:14: DeprecationWarning: Call to deprecated class method from_defaults. (ServiceContext is deprecated, please use `llama_index.settings.Settings` instead.) -- Deprecated since version 0.10.0.\n",
      "  service_context = ServiceContext.from_defaults()\n",
      "/Users/mototsuguohki/.pyenv/versions/3.11.3/lib/python3.11/site-packages/tqdm/auto.py:21: TqdmWarning: IProgress not found. Please update jupyter and ipywidgets. See https://ipywidgets.readthedocs.io/en/stable/user_install.html\n",
      "  from .autonotebook import tqdm as notebook_tqdm\n",
      "Parsing nodes: 100%|██████████| 155/155 [00:00<00:00, 5377.13it/s]\n",
      "Generating embeddings: 100%|██████████| 155/155 [00:02<00:00, 52.73it/s]\n"
     ]
    }
   ],
   "source": [
    "from llama_index.core import SimpleDirectoryReader\n",
    "from llama_index.core import StorageContext, ServiceContext\n",
    "from llama_index.core import VectorStoreIndex\n",
    "\n",
    "# ドキュメントのロード\n",
    "directory_reader = SimpleDirectoryReader(\n",
    "        input_dir=\"./documents/intellectual_property/\", recursive=True,\n",
    "        filename_as_id = True, # Answerに対する根拠を得る\n",
    "    )\n",
    "documents = directory_reader.load_data()\n",
    "\n",
    "# index作成\n",
    "storage_context = StorageContext.from_defaults()\n",
    "service_context = ServiceContext.from_defaults()\n",
    "index = VectorStoreIndex.from_documents(\n",
    "        documents, storage_context=storage_context, service_context=service_context, show_progress=True\n",
    "    )\n"
   ]
  },
  {
   "cell_type": "code",
   "execution_count": 6,
   "metadata": {},
   "outputs": [],
   "source": [
    "query_engine = index.as_query_engine()\n",
    "response = query_engine.query(\"成績の評価方法は？?\")"
   ]
  },
  {
   "cell_type": "code",
   "execution_count": 7,
   "metadata": {},
   "outputs": [
    {
     "data": {
      "text/plain": [
       "Response(response='出席点とレポートが3割ずつ評価され、期末試験は実施されず、ディスカッション内容も評価される可能性がある。', source_nodes=[NodeWithScore(node=TextNode(id_='24863525-6bcf-4d89-a9d2-9781fbc917fb', embedding=None, metadata={'page_label': '9', 'file_name': 'イントロダクション 春 火5.pdf', 'file_path': '/Users/mototsuguohki/Desktop/Work/AIVALIX/rag_llamaindex_langchain/documents/intellectual_property/イントロダクション 春 火5.pdf', 'file_type': 'application/pdf', 'file_size': 6766532, 'creation_date': '2024-08-01', 'last_modified_date': '2024-04-09'}, excluded_embed_metadata_keys=['file_name', 'file_type', 'file_size', 'creation_date', 'last_modified_date', 'last_accessed_date'], excluded_llm_metadata_keys=['file_name', 'file_type', 'file_size', 'creation_date', 'last_modified_date', 'last_accessed_date'], relationships={<NodeRelationship.SOURCE: '1'>: RelatedNodeInfo(node_id='/Users/mototsuguohki/Desktop/Work/AIVALIX/rag_llamaindex_langchain/documents/intellectual_property/イントロダクション 春 火5.pdf_part_8', node_type=<ObjectType.DOCUMENT: '4'>, metadata={'page_label': '9', 'file_name': 'イントロダクション 春 火5.pdf', 'file_path': '/Users/mototsuguohki/Desktop/Work/AIVALIX/rag_llamaindex_langchain/documents/intellectual_property/イントロダクション 春 火5.pdf', 'file_type': 'application/pdf', 'file_size': 6766532, 'creation_date': '2024-08-01', 'last_modified_date': '2024-04-09'}, hash='904b0b284222950e11e2345aee0d03d43226a2142f069b5659352fcd1245d024')}, text='成績評価\\n9出席点レポート3割7割期末試験は実施しないディスカッション内容が評価されるかも︖', mimetype='text/plain', start_char_idx=0, end_char_idx=46, text_template='{metadata_str}\\n\\n{content}', metadata_template='{key}: {value}', metadata_seperator='\\n'), score=0.8294972231620287), NodeWithScore(node=TextNode(id_='51429117-baa4-4899-91f1-30d84df4b9af', embedding=None, metadata={'page_label': '3', 'file_name': '知財戦略.pdf', 'file_path': '/Users/mototsuguohki/Desktop/Work/AIVALIX/rag_llamaindex_langchain/documents/intellectual_property/知財戦略.pdf', 'file_type': 'application/pdf', 'file_size': 3995745, 'creation_date': '2024-08-01', 'last_modified_date': '2024-07-16'}, excluded_embed_metadata_keys=['file_name', 'file_type', 'file_size', 'creation_date', 'last_modified_date', 'last_accessed_date'], excluded_llm_metadata_keys=['file_name', 'file_type', 'file_size', 'creation_date', 'last_modified_date', 'last_accessed_date'], relationships={<NodeRelationship.SOURCE: '1'>: RelatedNodeInfo(node_id='/Users/mototsuguohki/Desktop/Work/AIVALIX/rag_llamaindex_langchain/documents/intellectual_property/知財戦略.pdf_part_2', node_type=<ObjectType.DOCUMENT: '4'>, metadata={'page_label': '3', 'file_name': '知財戦略.pdf', 'file_path': '/Users/mototsuguohki/Desktop/Work/AIVALIX/rag_llamaindex_langchain/documents/intellectual_property/知財戦略.pdf', 'file_type': 'application/pdf', 'file_size': 3995745, 'creation_date': '2024-08-01', 'last_modified_date': '2024-07-16'}, hash='b65f42998104a74754a0396524c3298d68a808a8b4f78b129214fb7f5d1098c0')}, text='3レポート課題について閲覧⽅法keio.jpよりダウンロード様式・A4⽤紙（10.5ポイント）で最⼤4枚（参考⽂献の記載ページ含まず）・word形式⼜はpdf形式・参考⽂献を必ず記載提出先keio.jp提出期限7/31（⽔）注意事項・他⼈のコピーと認められるレポートについては両⽅を減点します・Jplatpatのメンテナンスにより調査ができなかった等の理由は認めない', mimetype='text/plain', start_char_idx=0, end_char_idx=183, text_template='{metadata_str}\\n\\n{content}', metadata_template='{key}: {value}', metadata_seperator='\\n'), score=0.8007022966857019)], metadata={'24863525-6bcf-4d89-a9d2-9781fbc917fb': {'page_label': '9', 'file_name': 'イントロダクション 春 火5.pdf', 'file_path': '/Users/mototsuguohki/Desktop/Work/AIVALIX/rag_llamaindex_langchain/documents/intellectual_property/イントロダクション 春 火5.pdf', 'file_type': 'application/pdf', 'file_size': 6766532, 'creation_date': '2024-08-01', 'last_modified_date': '2024-04-09'}, '51429117-baa4-4899-91f1-30d84df4b9af': {'page_label': '3', 'file_name': '知財戦略.pdf', 'file_path': '/Users/mototsuguohki/Desktop/Work/AIVALIX/rag_llamaindex_langchain/documents/intellectual_property/知財戦略.pdf', 'file_type': 'application/pdf', 'file_size': 3995745, 'creation_date': '2024-08-01', 'last_modified_date': '2024-07-16'}})"
      ]
     },
     "execution_count": 7,
     "metadata": {},
     "output_type": "execute_result"
    }
   ],
   "source": [
    "response"
   ]
  },
  {
   "cell_type": "code",
   "execution_count": 10,
   "metadata": {},
   "outputs": [
    {
     "data": {
      "text/plain": [
       "Response(response='幸谷さんは東京大学農学部を卒業し、慶應義塾大学商学部も卒業しています。', source_nodes=[NodeWithScore(node=TextNode(id_='cb10e15d-feff-4647-be34-451645a8df54', embedding=None, metadata={'page_label': '4', 'file_name': '知財戦略.pdf', 'file_path': '/Users/mototsuguohki/Desktop/Work/AIVALIX/rag_llamaindex_langchain/documents/intellectual_property/知財戦略.pdf', 'file_type': 'application/pdf', 'file_size': 3995745, 'creation_date': '2024-08-01', 'last_modified_date': '2024-07-16'}, excluded_embed_metadata_keys=['file_name', 'file_type', 'file_size', 'creation_date', 'last_modified_date', 'last_accessed_date'], excluded_llm_metadata_keys=['file_name', 'file_type', 'file_size', 'creation_date', 'last_modified_date', 'last_accessed_date'], relationships={<NodeRelationship.SOURCE: '1'>: RelatedNodeInfo(node_id='/Users/mototsuguohki/Desktop/Work/AIVALIX/rag_llamaindex_langchain/documents/intellectual_property/知財戦略.pdf_part_3', node_type=<ObjectType.DOCUMENT: '4'>, metadata={'page_label': '4', 'file_name': '知財戦略.pdf', 'file_path': '/Users/mototsuguohki/Desktop/Work/AIVALIX/rag_llamaindex_langchain/documents/intellectual_property/知財戦略.pdf', 'file_type': 'application/pdf', 'file_size': 3995745, 'creation_date': '2024-08-01', 'last_modified_date': '2024-07-16'}, hash='7c61daf1b2e66aba1592d092933495329a72bc16e9883c843f9cb34ee8c33a56')}, text='株式会社ユーグレナの概要\\n4\\n株式会社ユーグレナホームページより東京⼤学農学部卒慶應義塾⼤学商学部卒\\n東京⼤学発バイオベンチャー。ミドリムシを原料とするヘルスケア事業、バイオジェット燃料事業を展開。財務・事業責任者\\n創業者慶応義塾⼤学もパートナーとして研究・開発', mimetype='text/plain', start_char_idx=0, end_char_idx=131, text_template='{metadata_str}\\n\\n{content}', metadata_template='{key}: {value}', metadata_seperator='\\n'), score=0.7995170506576053), NodeWithScore(node=TextNode(id_='eccbb91a-0e3f-4600-9920-53bf6bfa2f84', embedding=None, metadata={'page_label': '6', 'file_name': '知財戦略.pdf', 'file_path': '/Users/mototsuguohki/Desktop/Work/AIVALIX/rag_llamaindex_langchain/documents/intellectual_property/知財戦略.pdf', 'file_type': 'application/pdf', 'file_size': 3995745, 'creation_date': '2024-08-01', 'last_modified_date': '2024-07-16'}, excluded_embed_metadata_keys=['file_name', 'file_type', 'file_size', 'creation_date', 'last_modified_date', 'last_accessed_date'], excluded_llm_metadata_keys=['file_name', 'file_type', 'file_size', 'creation_date', 'last_modified_date', 'last_accessed_date'], relationships={<NodeRelationship.SOURCE: '1'>: RelatedNodeInfo(node_id='/Users/mototsuguohki/Desktop/Work/AIVALIX/rag_llamaindex_langchain/documents/intellectual_property/知財戦略.pdf_part_5', node_type=<ObjectType.DOCUMENT: '4'>, metadata={'page_label': '6', 'file_name': '知財戦略.pdf', 'file_path': '/Users/mototsuguohki/Desktop/Work/AIVALIX/rag_llamaindex_langchain/documents/intellectual_property/知財戦略.pdf', 'file_type': 'application/pdf', 'file_size': 3995745, 'creation_date': '2024-08-01', 'last_modified_date': '2024-07-16'}, hash='f46ac0f7d737ebb9a20aaf29e5f52a1d2df50394a97748e0e030b1e7494ba2a9')}, text='Spiber株式会社の概要\\n6朝⽇新聞DIGITALより慶応義塾⼤学発バイオベンチャー。慶応義塾⼤学先端⽣命科学研究所で冨⽥勝教授の下、2004年から研究を始め、2007年に⼭形県で起業。クモ⽷の遺伝⼦をベースにした⼈⼯構造タンパク質素材を開発し、新素材を⽤いた⾐服等の製品開発を展開。http://www.asahi.com/ad/globalj/keio', mimetype='text/plain', start_char_idx=0, end_char_idx=179, text_template='{metadata_str}\\n\\n{content}', metadata_template='{key}: {value}', metadata_seperator='\\n'), score=0.7976353616630018)], metadata={'cb10e15d-feff-4647-be34-451645a8df54': {'page_label': '4', 'file_name': '知財戦略.pdf', 'file_path': '/Users/mototsuguohki/Desktop/Work/AIVALIX/rag_llamaindex_langchain/documents/intellectual_property/知財戦略.pdf', 'file_type': 'application/pdf', 'file_size': 3995745, 'creation_date': '2024-08-01', 'last_modified_date': '2024-07-16'}, 'eccbb91a-0e3f-4600-9920-53bf6bfa2f84': {'page_label': '6', 'file_name': '知財戦略.pdf', 'file_path': '/Users/mototsuguohki/Desktop/Work/AIVALIX/rag_llamaindex_langchain/documents/intellectual_property/知財戦略.pdf', 'file_type': 'application/pdf', 'file_size': 3995745, 'creation_date': '2024-08-01', 'last_modified_date': '2024-07-16'}})"
      ]
     },
     "execution_count": 10,
     "metadata": {},
     "output_type": "execute_result"
    }
   ],
   "source": [
    "response = query_engine.query('幸谷さんの経歴は？')\n",
    "response"
   ]
  },
  {
   "cell_type": "code",
   "execution_count": 11,
   "metadata": {},
   "outputs": [
    {
     "name": "stdout",
     "output_type": "stream",
     "text": [
      "> Source (Doc id: cb10e15d-feff-4647-be34-451645a8df54): 株式会社ユーグレナの概要\n",
      "4\n",
      "株式会社ユーグレナホームページより東京⼤学農学部卒慶應義塾⼤学商学部卒\n",
      "東京⼤学発バイオベンチャー。ミドリムシを原料とするヘルスケア事業、バイオジェット燃料事業を展...\n",
      "\n",
      "> Source (Doc id: eccbb91a-0e3f-4600-9920-53bf6bfa2f84): Spiber株式会社の概要\n",
      "6朝⽇新聞DIGITALより慶応義塾⼤学発バイオベンチャー。慶応義塾⼤学先端⽣命科学研究所で冨⽥勝教授の下、2004年から研究を始め、2007年に⼭形県で起業。クモ⽷...\n"
     ]
    },
    {
     "data": {
      "text/plain": [
       "Response(response='幸谷さんは東京大学農学部を卒業し、慶應義塾大学商学部も卒業しています。', source_nodes=[NodeWithScore(node=TextNode(id_='cb10e15d-feff-4647-be34-451645a8df54', embedding=None, metadata={'page_label': '4', 'file_name': '知財戦略.pdf', 'file_path': '/Users/mototsuguohki/Desktop/Work/AIVALIX/rag_llamaindex_langchain/documents/intellectual_property/知財戦略.pdf', 'file_type': 'application/pdf', 'file_size': 3995745, 'creation_date': '2024-08-01', 'last_modified_date': '2024-07-16'}, excluded_embed_metadata_keys=['file_name', 'file_type', 'file_size', 'creation_date', 'last_modified_date', 'last_accessed_date'], excluded_llm_metadata_keys=['file_name', 'file_type', 'file_size', 'creation_date', 'last_modified_date', 'last_accessed_date'], relationships={<NodeRelationship.SOURCE: '1'>: RelatedNodeInfo(node_id='/Users/mototsuguohki/Desktop/Work/AIVALIX/rag_llamaindex_langchain/documents/intellectual_property/知財戦略.pdf_part_3', node_type=<ObjectType.DOCUMENT: '4'>, metadata={'page_label': '4', 'file_name': '知財戦略.pdf', 'file_path': '/Users/mototsuguohki/Desktop/Work/AIVALIX/rag_llamaindex_langchain/documents/intellectual_property/知財戦略.pdf', 'file_type': 'application/pdf', 'file_size': 3995745, 'creation_date': '2024-08-01', 'last_modified_date': '2024-07-16'}, hash='7c61daf1b2e66aba1592d092933495329a72bc16e9883c843f9cb34ee8c33a56')}, text='株式会社ユーグレナの概要\\n4\\n株式会社ユーグレナホームページより東京⼤学農学部卒慶應義塾⼤学商学部卒\\n東京⼤学発バイオベンチャー。ミドリムシを原料とするヘルスケア事業、バイオジェット燃料事業を展開。財務・事業責任者\\n創業者慶応義塾⼤学もパートナーとして研究・開発', mimetype='text/plain', start_char_idx=0, end_char_idx=131, text_template='{metadata_str}\\n\\n{content}', metadata_template='{key}: {value}', metadata_seperator='\\n'), score=0.7995170506576053), NodeWithScore(node=TextNode(id_='eccbb91a-0e3f-4600-9920-53bf6bfa2f84', embedding=None, metadata={'page_label': '6', 'file_name': '知財戦略.pdf', 'file_path': '/Users/mototsuguohki/Desktop/Work/AIVALIX/rag_llamaindex_langchain/documents/intellectual_property/知財戦略.pdf', 'file_type': 'application/pdf', 'file_size': 3995745, 'creation_date': '2024-08-01', 'last_modified_date': '2024-07-16'}, excluded_embed_metadata_keys=['file_name', 'file_type', 'file_size', 'creation_date', 'last_modified_date', 'last_accessed_date'], excluded_llm_metadata_keys=['file_name', 'file_type', 'file_size', 'creation_date', 'last_modified_date', 'last_accessed_date'], relationships={<NodeRelationship.SOURCE: '1'>: RelatedNodeInfo(node_id='/Users/mototsuguohki/Desktop/Work/AIVALIX/rag_llamaindex_langchain/documents/intellectual_property/知財戦略.pdf_part_5', node_type=<ObjectType.DOCUMENT: '4'>, metadata={'page_label': '6', 'file_name': '知財戦略.pdf', 'file_path': '/Users/mototsuguohki/Desktop/Work/AIVALIX/rag_llamaindex_langchain/documents/intellectual_property/知財戦略.pdf', 'file_type': 'application/pdf', 'file_size': 3995745, 'creation_date': '2024-08-01', 'last_modified_date': '2024-07-16'}, hash='f46ac0f7d737ebb9a20aaf29e5f52a1d2df50394a97748e0e030b1e7494ba2a9')}, text='Spiber株式会社の概要\\n6朝⽇新聞DIGITALより慶応義塾⼤学発バイオベンチャー。慶応義塾⼤学先端⽣命科学研究所で冨⽥勝教授の下、2004年から研究を始め、2007年に⼭形県で起業。クモ⽷の遺伝⼦をベースにした⼈⼯構造タンパク質素材を開発し、新素材を⽤いた⾐服等の製品開発を展開。http://www.asahi.com/ad/globalj/keio', mimetype='text/plain', start_char_idx=0, end_char_idx=179, text_template='{metadata_str}\\n\\n{content}', metadata_template='{key}: {value}', metadata_seperator='\\n'), score=0.7976353616630018)], metadata={'cb10e15d-feff-4647-be34-451645a8df54': {'page_label': '4', 'file_name': '知財戦略.pdf', 'file_path': '/Users/mototsuguohki/Desktop/Work/AIVALIX/rag_llamaindex_langchain/documents/intellectual_property/知財戦略.pdf', 'file_type': 'application/pdf', 'file_size': 3995745, 'creation_date': '2024-08-01', 'last_modified_date': '2024-07-16'}, 'eccbb91a-0e3f-4600-9920-53bf6bfa2f84': {'page_label': '6', 'file_name': '知財戦略.pdf', 'file_path': '/Users/mototsuguohki/Desktop/Work/AIVALIX/rag_llamaindex_langchain/documents/intellectual_property/知財戦略.pdf', 'file_type': 'application/pdf', 'file_size': 3995745, 'creation_date': '2024-08-01', 'last_modified_date': '2024-07-16'}})"
      ]
     },
     "execution_count": 11,
     "metadata": {},
     "output_type": "execute_result"
    }
   ],
   "source": [
    "response = query_engine.query('幸谷さんの経歴は？')\n",
    "print(response.get_formatted_sources()) # ソースを表示 \n",
    "response"
   ]
  },
  {
   "cell_type": "code",
   "execution_count": null,
   "metadata": {},
   "outputs": [],
   "source": []
  }
 ],
 "metadata": {
  "kernelspec": {
   "display_name": "Python 3",
   "language": "python",
   "name": "python3"
  },
  "language_info": {
   "codemirror_mode": {
    "name": "ipython",
    "version": 3
   },
   "file_extension": ".py",
   "mimetype": "text/x-python",
   "name": "python",
   "nbconvert_exporter": "python",
   "pygments_lexer": "ipython3",
   "version": "3.11.3"
  }
 },
 "nbformat": 4,
 "nbformat_minor": 2
}
